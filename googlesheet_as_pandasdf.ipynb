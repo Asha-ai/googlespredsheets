{
 "cells": [
  {
   "cell_type": "code",
   "execution_count": null,
   "metadata": {},
   "outputs": [],
   "source": [
    "# This is my downloaded json file newproj-280017-b96d999edf46.json\n",
    "#Replace this .json file with yours"
   ]
  },
  {
   "cell_type": "code",
   "execution_count": null,
   "metadata": {},
   "outputs": [],
   "source": []
  },
  {
   "cell_type": "code",
   "execution_count": 21,
   "metadata": {},
   "outputs": [],
   "source": [
    "import gspread\n",
    "from oauth2client.service_account import ServiceAccountCredentials\n",
    "import pandas as pd\n",
    "\n",
    "scope = ['https://spreadsheets.google.com/feeds',\n",
    "         'https://www.googleapis.com/auth/drive']\n",
    "\n",
    "credentials = ServiceAccountCredentials.from_json_keyfile_name(\n",
    "         'newproj-280017-b96d999edf46.json', scope) # Your json file here\n",
    "\n",
    "\n",
    "\n"
   ]
  },
  {
   "cell_type": "code",
   "execution_count": 22,
   "metadata": {},
   "outputs": [
    {
     "data": {
      "text/plain": [
       "<gspread.client.Client at 0x609ed1d2e8>"
      ]
     },
     "execution_count": 22,
     "metadata": {},
     "output_type": "execute_result"
    }
   ],
   "source": [
    "gc = gspread.authorize(credentials)\n",
    "\n",
    "gc"
   ]
  },
  {
   "cell_type": "code",
   "execution_count": 23,
   "metadata": {},
   "outputs": [],
   "source": [
    "wks = gc.open(\"Retail_data\").sheet1\n",
    "\n"
   ]
  },
  {
   "cell_type": "code",
   "execution_count": 24,
   "metadata": {},
   "outputs": [
    {
     "name": "stdout",
     "output_type": "stream",
     "text": [
      "  MAJ_CAT_CODE MAJ_CAT_NAME CAT_CODE   CAT_NAME SUB_CAT_CODE  \\\n",
      "0            6   TOILETRIES       36   SANITARY         3601   \n",
      "1            6   TOILETRIES       33  SKIN CARE         3302   \n",
      "2            6   TOILETRIES       33  SKIN CARE         3304   \n",
      "3            6   TOILETRIES       33  SKIN CARE         3302   \n",
      "4            6   TOILETRIES       33  SKIN CARE         3301   \n",
      "\n",
      "       SUB_CAT_NAME VENDOR_CODE BRAND_CODE BRAND_NAME  \\\n",
      "0     SANITARY PADS      H00402      10198      KOTEX   \n",
      "1  CREAMS & LOTIONS      H00402      10363   VASELINE   \n",
      "2   TALCS & POWDERS      H00402      10281      PONDS   \n",
      "3  CREAMS & LOTIONS      H00402      10281      PONDS   \n",
      "4    SOAPS & SCRUBS      H00402      10276      PEARS   \n",
      "\n",
      "               VENDOR_NAME MANUF_CODE              MANUF_NAME SKU_CODE  \\\n",
      "0  HINDUSTAN LEVER LIMITED        112  HLL -PERSONAL PRODUCTS    20325   \n",
      "1  HINDUSTAN LEVER LIMITED        112  HLL -PERSONAL PRODUCTS    22006   \n",
      "2  HINDUSTAN LEVER LIMITED        112  HLL -PERSONAL PRODUCTS    22021   \n",
      "3  HINDUSTAN LEVER LIMITED        112  HLL -PERSONAL PRODUCTS    22046   \n",
      "4  HINDUSTAN LEVER LIMITED        112  HLL -PERSONAL PRODUCTS    22056   \n",
      "\n",
      "                              SKU_NAME Retail_Price Offer_Price  \n",
      "0                     KOTEX ACTIVE 8'S        21.66          28  \n",
      "1  VASELINE PETROLEUM WHITE JELLY 50GM        19.39          24  \n",
      "2       PONDS DREAM FLOWER MAGIC 50GMS         13.7          18  \n",
      "3               PONDS COLD CREAM 100GM        50.95          63  \n",
      "4                           PEARS 125G        24.55          32  \n"
     ]
    }
   ],
   "source": [
    "data = wks.get_all_values()\n",
    "headers = data.pop(0)\n",
    "\n",
    "df = pd.DataFrame(data, columns=headers)\n",
    "print(df.head())"
   ]
  },
  {
   "cell_type": "code",
   "execution_count": null,
   "metadata": {},
   "outputs": [],
   "source": []
  }
 ],
 "metadata": {
  "kernelspec": {
   "display_name": "Python 3",
   "language": "python",
   "name": "python3"
  },
  "language_info": {
   "codemirror_mode": {
    "name": "ipython",
    "version": 3
   },
   "file_extension": ".py",
   "mimetype": "text/x-python",
   "name": "python",
   "nbconvert_exporter": "python",
   "pygments_lexer": "ipython3",
   "version": "3.7.2"
  }
 },
 "nbformat": 4,
 "nbformat_minor": 2
}
